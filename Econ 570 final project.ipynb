{
 "cells": [
  {
   "cell_type": "markdown",
   "id": "d7af1af1",
   "metadata": {},
   "source": [
    "# Compare the Performance of ARIMA, LSTM and GRU Model in Predicting the Stock Price of Coke"
   ]
  },
  {
   "cell_type": "markdown",
   "id": "0ea689e6",
   "metadata": {},
   "source": [
    "## Group members : Quanquan Guo, Weiyi Yu,Xu Zhang."
   ]
  },
  {
   "cell_type": "markdown",
   "id": "a8079a7d",
   "metadata": {},
   "source": [
    "# 1. Introduction\n",
    "## 1.1 Introduction\n",
    "Over the past years, there are large number of studies related to the stock researches. Predicting stock price is one of the most attractive topics, especially for investors. Since the stock data is a time series that contain the liner and non-linear components and we are inspired by deep/maching learing methods, we decided to apply the ARIMA and Long Short Term Memory(LSTM )model and Gate Recurrent Unit(GRU) in our research and compare their feasibility of predicting the stock price. \n",
    "\n",
    "In terms of selecting the stock, we prefer to choose the stock which is least affcted by the different kinds of external factors such as COVID-19 to help us to obtain a more accurate result. For instance, the share prices of oil companies (such as ExxonMobil) may fluctuate due to the Russian Ukrainian war. From the above analysis, we decided to choose the traditional and health company as our research object and Coke indeed is a good choice for us to explore further.In our research, we connect with the relevant economics field and apply three different models to predict the Coke stock openning price.\n",
    "\n",
    "## 1.2 Background\n",
    "Coke is one of the top company in the world, and it involves a large number of subbrands such as Fenda and Sprite. In addtion, these products are widely welcomed to the over 200 countries all over the world. Furthermore, COKE is as a tradational maufuactural company, which has the improved machine system and low R&D cost that is not as much as the begining period. Apart from that, since Coke has miliions of loyalty customers in different countries, it is easy for them to keep the stable revenue growth rate.(https://investors.coca-colacompany.com/) Therefore, there is no doubt that Coke is a suitable and worthable stock to do the prediction work.\n",
    "## 1.3 Literature Review\n",
    "Previous research showed that the some deep/machine learning methods to predict stock price. In terms of choosing methods, we are inspired by a study related to ARIMA, ANN, and LSTM about predicting stock price(Qihang Ma,2020). From this study, we are familar with the advantages and disadvantages of these three predicting methodologies during the predicting the stock price. It well shows that the comparsion among these machine learning methodoloies. After that we decided to use the Arima and LSTM models to predict Coke stock price(M K Ho et al 2021 J.Phys.:Conf.Ser.1998 012041). \n",
    "\n",
    "Furthermore, Umar Farouk Ibn Abdulrahman(2020) also offers us a new method that do a hybrid Arima-LSTM model for stock price prediction. At first, the researcher used the ARIMA model to get the train_set and then apply to the LSTM model to do the prediction. However, in our group project, there is difference between the capacity of data. It is a better way for us to seperate two models and compare their prediction result.\n",
    "\n",
    "At last, LSTM is as the mostly frequently used method to estimate stock price, there is a paper focus in the appliction of the LSTM(Guangyu Ding,2019).We hope that the models in our research can be generlized to the real life prediction. "
   ]
  },
  {
   "cell_type": "markdown",
   "id": "ecaeb70d",
   "metadata": {},
   "source": [
    "# 2. Data\n",
    "## 2.1 Data Source\n",
    "We downloaded the relevant data of Coca Cola's stock market performance from April 30, 2002 to April 29, 2022 from the website of Yahoo Finance(https://finance.yahoo.com/quote/COKE?p=COKE)."
   ]
  },
  {
   "cell_type": "code",
   "execution_count": 1,
   "id": "8aa86dc6",
   "metadata": {},
   "outputs": [],
   "source": [
    "import pandas as pd\n",
    "import numpy as np\n",
    "import matplotlib.pyplot as plt\n",
    "import statsmodels.api as sm\n",
    "import tensorflow as tf\n",
    "import warnings\n",
    "from sklearn.preprocessing import MinMaxScaler\n",
    "from keras.models import Sequential\n",
    "from keras.layers import Dense, LSTM,Dropout,GRU  \n",
    "from tensorflow.keras.optimizers import SGD \n",
    "from sklearn.metrics import mean_squared_error\n",
    "from keras.models import load_model\n",
    "from statsmodels.tsa.arima.model import ARIMA\n",
    "from statsmodels.graphics.tsaplots import plot_acf\n",
    "from statsmodels.tsa.stattools import adfuller as ADF\n",
    "from statsmodels.graphics.tsaplots import plot_pacf\n",
    "from statsmodels.graphics.api import qqplot\n",
    "from statsmodels.graphics.tsaplots import plot_predict"
   ]
  },
  {
   "cell_type": "code",
   "execution_count": 2,
   "id": "ee21f022",
   "metadata": {},
   "outputs": [],
   "source": [
    "warnings.filterwarnings(\"ignore\")"
   ]
  },
  {
   "cell_type": "code",
   "execution_count": 4,
   "id": "50c4700f",
   "metadata": {},
   "outputs": [],
   "source": [
    "#import data\n",
    "dataset = pd.read_csv(\"COKE.csv\",\n",
    "                     index_col='Date',parse_dates=['Date'])              \n",
    "#Using \"Date\" as index, and converting the \"Date\" format from a string to the desired date type"
   ]
  },
  {
   "cell_type": "code",
   "execution_count": 5,
   "id": "69c64c22",
   "metadata": {},
   "outputs": [
    {
     "data": {
      "text/html": [
       "<div>\n",
       "<style scoped>\n",
       "    .dataframe tbody tr th:only-of-type {\n",
       "        vertical-align: middle;\n",
       "    }\n",
       "\n",
       "    .dataframe tbody tr th {\n",
       "        vertical-align: top;\n",
       "    }\n",
       "\n",
       "    .dataframe thead th {\n",
       "        text-align: right;\n",
       "    }\n",
       "</style>\n",
       "<table border=\"1\" class=\"dataframe\">\n",
       "  <thead>\n",
       "    <tr style=\"text-align: right;\">\n",
       "      <th></th>\n",
       "      <th>Open</th>\n",
       "      <th>High</th>\n",
       "      <th>Low</th>\n",
       "      <th>Close</th>\n",
       "      <th>Adj Close</th>\n",
       "      <th>Volume</th>\n",
       "    </tr>\n",
       "    <tr>\n",
       "      <th>Date</th>\n",
       "      <th></th>\n",
       "      <th></th>\n",
       "      <th></th>\n",
       "      <th></th>\n",
       "      <th></th>\n",
       "      <th></th>\n",
       "    </tr>\n",
       "  </thead>\n",
       "  <tbody>\n",
       "    <tr>\n",
       "      <th>2002-04-30</th>\n",
       "      <td>50.330002</td>\n",
       "      <td>50.330002</td>\n",
       "      <td>49.160000</td>\n",
       "      <td>49.160000</td>\n",
       "      <td>37.579525</td>\n",
       "      <td>9700</td>\n",
       "    </tr>\n",
       "    <tr>\n",
       "      <th>2002-05-01</th>\n",
       "      <td>49.110001</td>\n",
       "      <td>50.099998</td>\n",
       "      <td>49.110001</td>\n",
       "      <td>50.099998</td>\n",
       "      <td>38.298065</td>\n",
       "      <td>8300</td>\n",
       "    </tr>\n",
       "    <tr>\n",
       "      <th>2002-05-02</th>\n",
       "      <td>50.099998</td>\n",
       "      <td>50.410000</td>\n",
       "      <td>50.099998</td>\n",
       "      <td>50.240002</td>\n",
       "      <td>38.405106</td>\n",
       "      <td>3300</td>\n",
       "    </tr>\n",
       "    <tr>\n",
       "      <th>2002-05-03</th>\n",
       "      <td>50.240002</td>\n",
       "      <td>50.439999</td>\n",
       "      <td>49.750000</td>\n",
       "      <td>50.250000</td>\n",
       "      <td>38.412743</td>\n",
       "      <td>6400</td>\n",
       "    </tr>\n",
       "    <tr>\n",
       "      <th>2002-05-06</th>\n",
       "      <td>50.400002</td>\n",
       "      <td>50.400002</td>\n",
       "      <td>49.250000</td>\n",
       "      <td>49.389999</td>\n",
       "      <td>37.755337</td>\n",
       "      <td>3700</td>\n",
       "    </tr>\n",
       "  </tbody>\n",
       "</table>\n",
       "</div>"
      ],
      "text/plain": [
       "                 Open       High        Low      Close  Adj Close  Volume\n",
       "Date                                                                     \n",
       "2002-04-30  50.330002  50.330002  49.160000  49.160000  37.579525    9700\n",
       "2002-05-01  49.110001  50.099998  49.110001  50.099998  38.298065    8300\n",
       "2002-05-02  50.099998  50.410000  50.099998  50.240002  38.405106    3300\n",
       "2002-05-03  50.240002  50.439999  49.750000  50.250000  38.412743    6400\n",
       "2002-05-06  50.400002  50.400002  49.250000  49.389999  37.755337    3700"
      ]
     },
     "execution_count": 5,
     "metadata": {},
     "output_type": "execute_result"
    }
   ],
   "source": [
    "#exploring the data\n",
    "dataset.head()"
   ]
  },
  {
   "cell_type": "code",
   "execution_count": 6,
   "id": "c8ee19d6",
   "metadata": {},
   "outputs": [
    {
     "data": {
      "text/plain": [
       "Open         False\n",
       "High         False\n",
       "Low          False\n",
       "Close        False\n",
       "Adj Close    False\n",
       "Volume       False\n",
       "dtype: bool"
      ]
     },
     "execution_count": 6,
     "metadata": {},
     "output_type": "execute_result"
    }
   ],
   "source": [
    "#check for missing values \n",
    "dataset.isnull().any()"
   ]
  },
  {
   "cell_type": "markdown",
   "id": "1acd2397",
   "metadata": {},
   "source": [
    "Since our research theme is to use the historical opening price data of Coke company to predict its future opening price, and we have obtained a complete Coke opening price data without missing value, so there is no need to merging/appending multiple datasets together. \n",
    "## 2.2 Summary Statistic"
   ]
  },
  {
   "cell_type": "code",
   "execution_count": 7,
   "id": "c8f88a04",
   "metadata": {},
   "outputs": [
    {
     "data": {
      "text/plain": [
       "(5037, 6)"
      ]
     },
     "execution_count": 7,
     "metadata": {},
     "output_type": "execute_result"
    }
   ],
   "source": [
    "dataset.shape"
   ]
  },
  {
   "cell_type": "code",
   "execution_count": 8,
   "id": "94a0ca20",
   "metadata": {},
   "outputs": [
    {
     "data": {
      "text/html": [
       "<div>\n",
       "<style scoped>\n",
       "    .dataframe tbody tr th:only-of-type {\n",
       "        vertical-align: middle;\n",
       "    }\n",
       "\n",
       "    .dataframe tbody tr th {\n",
       "        vertical-align: top;\n",
       "    }\n",
       "\n",
       "    .dataframe thead th {\n",
       "        text-align: right;\n",
       "    }\n",
       "</style>\n",
       "<table border=\"1\" class=\"dataframe\">\n",
       "  <thead>\n",
       "    <tr style=\"text-align: right;\">\n",
       "      <th></th>\n",
       "      <th>Open</th>\n",
       "      <th>High</th>\n",
       "      <th>Low</th>\n",
       "      <th>Close</th>\n",
       "      <th>Adj Close</th>\n",
       "      <th>Volume</th>\n",
       "    </tr>\n",
       "  </thead>\n",
       "  <tbody>\n",
       "    <tr>\n",
       "      <th>count</th>\n",
       "      <td>5037.000000</td>\n",
       "      <td>5037.000000</td>\n",
       "      <td>5037.000000</td>\n",
       "      <td>5037.000000</td>\n",
       "      <td>5037.000000</td>\n",
       "      <td>5037.000000</td>\n",
       "    </tr>\n",
       "    <tr>\n",
       "      <th>mean</th>\n",
       "      <td>124.265253</td>\n",
       "      <td>126.065412</td>\n",
       "      <td>122.428872</td>\n",
       "      <td>124.242625</td>\n",
       "      <td>118.716311</td>\n",
       "      <td>29440.520151</td>\n",
       "    </tr>\n",
       "    <tr>\n",
       "      <th>std</th>\n",
       "      <td>110.278255</td>\n",
       "      <td>112.269934</td>\n",
       "      <td>108.386290</td>\n",
       "      <td>110.274162</td>\n",
       "      <td>112.514543</td>\n",
       "      <td>35153.373358</td>\n",
       "    </tr>\n",
       "    <tr>\n",
       "      <th>min</th>\n",
       "      <td>32.680000</td>\n",
       "      <td>33.770000</td>\n",
       "      <td>31.410000</td>\n",
       "      <td>32.610001</td>\n",
       "      <td>28.067036</td>\n",
       "      <td>0.000000</td>\n",
       "    </tr>\n",
       "    <tr>\n",
       "      <th>25%</th>\n",
       "      <td>53.439999</td>\n",
       "      <td>54.049999</td>\n",
       "      <td>52.750000</td>\n",
       "      <td>53.439999</td>\n",
       "      <td>44.395271</td>\n",
       "      <td>12300.000000</td>\n",
       "    </tr>\n",
       "    <tr>\n",
       "      <th>50%</th>\n",
       "      <td>63.970001</td>\n",
       "      <td>64.480003</td>\n",
       "      <td>63.310001</td>\n",
       "      <td>63.970001</td>\n",
       "      <td>58.693283</td>\n",
       "      <td>21000.000000</td>\n",
       "    </tr>\n",
       "    <tr>\n",
       "      <th>75%</th>\n",
       "      <td>175.449997</td>\n",
       "      <td>177.630005</td>\n",
       "      <td>172.860001</td>\n",
       "      <td>175.089996</td>\n",
       "      <td>171.796326</td>\n",
       "      <td>35200.000000</td>\n",
       "    </tr>\n",
       "    <tr>\n",
       "      <th>max</th>\n",
       "      <td>622.190002</td>\n",
       "      <td>638.000000</td>\n",
       "      <td>608.869995</td>\n",
       "      <td>625.770020</td>\n",
       "      <td>625.502563</td>\n",
       "      <td>929500.000000</td>\n",
       "    </tr>\n",
       "  </tbody>\n",
       "</table>\n",
       "</div>"
      ],
      "text/plain": [
       "              Open         High          Low        Close    Adj Close  \\\n",
       "count  5037.000000  5037.000000  5037.000000  5037.000000  5037.000000   \n",
       "mean    124.265253   126.065412   122.428872   124.242625   118.716311   \n",
       "std     110.278255   112.269934   108.386290   110.274162   112.514543   \n",
       "min      32.680000    33.770000    31.410000    32.610001    28.067036   \n",
       "25%      53.439999    54.049999    52.750000    53.439999    44.395271   \n",
       "50%      63.970001    64.480003    63.310001    63.970001    58.693283   \n",
       "75%     175.449997   177.630005   172.860001   175.089996   171.796326   \n",
       "max     622.190002   638.000000   608.869995   625.770020   625.502563   \n",
       "\n",
       "              Volume  \n",
       "count    5037.000000  \n",
       "mean    29440.520151  \n",
       "std     35153.373358  \n",
       "min         0.000000  \n",
       "25%     12300.000000  \n",
       "50%     21000.000000  \n",
       "75%     35200.000000  \n",
       "max    929500.000000  "
      ]
     },
     "execution_count": 8,
     "metadata": {},
     "output_type": "execute_result"
    }
   ],
   "source": [
    "dataset.describe()"
   ]
  },
  {
   "cell_type": "markdown",
   "id": "6e49dcb7",
   "metadata": {},
   "source": [
    "## 2.3 Data Transformation\n",
    "1. To reduce the volatility and scale data to a given range, we log the data in ARIMA and normalize data in LSTM and GRU.\n",
    "2. In ARIMA model, we do the first difference of the data to make the data stationary.\n",
    "3. In order to forecast the stock price, we separte the dataset to train set and test set. Train set contains the data from 2002 to 2021, and test set contains data in 2022. We use training set to generate the model and use test set to test the accuracy of the model.The same train set and test set allow us to compare the prediction accuracy of the three models."
   ]
  },
  {
   "cell_type": "markdown",
   "id": "90daeaa2",
   "metadata": {},
   "source": [
    "# 3. Modeling"
   ]
  },
  {
   "cell_type": "markdown",
   "id": "298d2788",
   "metadata": {},
   "source": [
    "## 3.1 ARIMA"
   ]
  },
  {
   "cell_type": "code",
   "execution_count": 4,
   "id": "9a932d42",
   "metadata": {},
   "outputs": [],
   "source": [
    "# # Index the date\n",
    "# data['Date'] = pd.to_datetime(data.Date,format = \"%Y-%m-%d\")\n",
    "# data.index = data['Date']"
   ]
  },
  {
   "cell_type": "code",
   "execution_count": 9,
   "id": "acaa63ca",
   "metadata": {},
   "outputs": [
    {
     "data": {
      "text/plain": [
       "[<matplotlib.lines.Line2D at 0x16eda4857f0>]"
      ]
     },
     "execution_count": 9,
     "metadata": {},
     "output_type": "execute_result"
    },
    {
     "data": {
      "image/png": "[encoded data removed]",
      "text/plain": [
       "<Figure size 1152x576 with 1 Axes>"
      ]
     },
     "metadata": {
      "needs_background": "light"
     },
     "output_type": "display_data"
    }
   ],
   "source": [
    "# Plot the data\n",
    "plt.figure(figsize = (16,8))\n",
    "plt.title(\"Open Stock Price of Coke\", fontsize=20)\n",
    "plt.plot(dataset['Open'])"
   ]
  },
  {
   "cell_type": "markdown",
   "id": "257f54e4",
   "metadata": {},
   "source": [
    "### 3.1.1 Separte the data into training dataset and test dataset"
   ]
  },
  {
   "cell_type": "code",
   "execution_count": 10,
   "id": "c408b466",
   "metadata": {},
   "outputs": [],
   "source": [
    "train = dataset.loc[:'2021']\n",
    "test = dataset.loc['2022']"
   ]
  },
  {
   "cell_type": "code",
   "execution_count": 11,
   "id": "a35ace51",
   "metadata": {},
   "outputs": [
    {
     "data": {
      "text/html": [
       "<div>\n",
       "<style scoped>\n",
       "    .dataframe tbody tr th:only-of-type {\n",
       "        vertical-align: middle;\n",
       "    }\n",
       "\n",
       "    .dataframe tbody tr th {\n",
       "        vertical-align: top;\n",
       "    }\n",
       "\n",
       "    .dataframe thead th {\n",
       "        text-align: right;\n",
       "    }\n",
       "</style>\n",
       "<table border=\"1\" class=\"dataframe\">\n",
       "  <thead>\n",
       "    <tr style=\"text-align: right;\">\n",
       "      <th></th>\n",
       "      <th>Open</th>\n",
       "      <th>High</th>\n",
       "      <th>Low</th>\n",
       "      <th>Close</th>\n",
       "      <th>Adj Close</th>\n",
       "      <th>Volume</th>\n",
       "    </tr>\n",
       "    <tr>\n",
       "      <th>Date</th>\n",
       "      <th></th>\n",
       "      <th></th>\n",
       "      <th></th>\n",
       "      <th></th>\n",
       "      <th></th>\n",
       "      <th></th>\n",
       "    </tr>\n",
       "  </thead>\n",
       "  <tbody>\n",
       "    <tr>\n",
       "      <th>2002-04-30</th>\n",
       "      <td>50.330002</td>\n",
       "      <td>50.330002</td>\n",
       "      <td>49.160000</td>\n",
       "      <td>49.160000</td>\n",
       "      <td>37.579525</td>\n",
       "      <td>9700</td>\n",
       "    </tr>\n",
       "    <tr>\n",
       "      <th>2002-05-01</th>\n",
       "      <td>49.110001</td>\n",
       "      <td>50.099998</td>\n",
       "      <td>49.110001</td>\n",
       "      <td>50.099998</td>\n",
       "      <td>38.298065</td>\n",
       "      <td>8300</td>\n",
       "    </tr>\n",
       "    <tr>\n",
       "      <th>2002-05-02</th>\n",
       "      <td>50.099998</td>\n",
       "      <td>50.410000</td>\n",
       "      <td>50.099998</td>\n",
       "      <td>50.240002</td>\n",
       "      <td>38.405106</td>\n",
       "      <td>3300</td>\n",
       "    </tr>\n",
       "    <tr>\n",
       "      <th>2002-05-03</th>\n",
       "      <td>50.240002</td>\n",
       "      <td>50.439999</td>\n",
       "      <td>49.750000</td>\n",
       "      <td>50.250000</td>\n",
       "      <td>38.412743</td>\n",
       "      <td>6400</td>\n",
       "    </tr>\n",
       "    <tr>\n",
       "      <th>2002-05-06</th>\n",
       "      <td>50.400002</td>\n",
       "      <td>50.400002</td>\n",
       "      <td>49.250000</td>\n",
       "      <td>49.389999</td>\n",
       "      <td>37.755337</td>\n",
       "      <td>3700</td>\n",
       "    </tr>\n",
       "    <tr>\n",
       "      <th>...</th>\n",
       "      <td>...</td>\n",
       "      <td>...</td>\n",
       "      <td>...</td>\n",
       "      <td>...</td>\n",
       "      <td>...</td>\n",
       "      <td>...</td>\n",
       "    </tr>\n",
       "    <tr>\n",
       "      <th>2021-12-27</th>\n",
       "      <td>590.909973</td>\n",
       "      <td>602.140015</td>\n",
       "      <td>585.369995</td>\n",
       "      <td>599.650024</td>\n",
       "      <td>599.393738</td>\n",
       "      <td>21600</td>\n",
       "    </tr>\n",
       "    <tr>\n",
       "      <th>2021-12-28</th>\n",
       "      <td>605.000000</td>\n",
       "      <td>619.150024</td>\n",
       "      <td>605.000000</td>\n",
       "      <td>612.020020</td>\n",
       "      <td>611.758423</td>\n",
       "      <td>23900</td>\n",
       "    </tr>\n",
       "    <tr>\n",
       "      <th>2021-12-29</th>\n",
       "      <td>611.349976</td>\n",
       "      <td>625.000000</td>\n",
       "      <td>602.020020</td>\n",
       "      <td>616.000000</td>\n",
       "      <td>615.736694</td>\n",
       "      <td>19000</td>\n",
       "    </tr>\n",
       "    <tr>\n",
       "      <th>2021-12-30</th>\n",
       "      <td>613.979980</td>\n",
       "      <td>630.599976</td>\n",
       "      <td>608.580017</td>\n",
       "      <td>616.900024</td>\n",
       "      <td>616.636353</td>\n",
       "      <td>21000</td>\n",
       "    </tr>\n",
       "    <tr>\n",
       "      <th>2021-12-31</th>\n",
       "      <td>616.530029</td>\n",
       "      <td>620.630005</td>\n",
       "      <td>608.789978</td>\n",
       "      <td>619.190002</td>\n",
       "      <td>618.925354</td>\n",
       "      <td>22000</td>\n",
       "    </tr>\n",
       "  </tbody>\n",
       "</table>\n",
       "<p>4955 rows × 6 columns</p>\n",
       "</div>"
      ],
      "text/plain": [
       "                  Open        High         Low       Close   Adj Close  Volume\n",
       "Date                                                                          \n",
       "2002-04-30   50.330002   50.330002   49.160000   49.160000   37.579525    9700\n",
       "2002-05-01   49.110001   50.099998   49.110001   50.099998   38.298065    8300\n",
       "2002-05-02   50.099998   50.410000   50.099998   50.240002   38.405106    3300\n",
       "2002-05-03   50.240002   50.439999   49.750000   50.250000   38.412743    6400\n",
       "2002-05-06   50.400002   50.400002   49.250000   49.389999   37.755337    3700\n",
       "...                ...         ...         ...         ...         ...     ...\n",
       "2021-12-27  590.909973  602.140015  585.369995  599.650024  599.393738   21600\n",
       "2021-12-28  605.000000  619.150024  605.000000  612.020020  611.758423   23900\n",
       "2021-12-29  611.349976  625.000000  602.020020  616.000000  615.736694   19000\n",
       "2021-12-30  613.979980  630.599976  608.580017  616.900024  616.636353   21000\n",
       "2021-12-31  616.530029  620.630005  608.789978  619.190002  618.925354   22000\n",
       "\n",
       "[4955 rows x 6 columns]"
      ]
     },
     "execution_count": 11,
     "metadata": {},
     "output_type": "execute_result"
    }
   ],
   "source": [
    "train"
   ]
  },
  {
   "cell_type": "code",
   "execution_count": 12,
   "id": "beffc23d",
   "metadata": {},
   "outputs": [
    {
     "data": {
      "text/html": [
       "<div>\n",
       "<style scoped>\n",
       "    .dataframe tbody tr th:only-of-type {\n",
       "        vertical-align: middle;\n",
       "    }\n",
       "\n",
       "    .dataframe tbody tr th {\n",
       "        vertical-align: top;\n",
       "    }\n",
       "\n",
       "    .dataframe thead th {\n",
       "        text-align: right;\n",
       "    }\n",
       "</style>\n",
       "<table border=\"1\" class=\"dataframe\">\n",
       "  <thead>\n",
       "    <tr style=\"text-align: right;\">\n",
       "      <th></th>\n",
       "      <th>Open</th>\n",
       "      <th>High</th>\n",
       "      <th>Low</th>\n",
       "      <th>Close</th>\n",
       "      <th>Adj Close</th>\n",
       "      <th>Volume</th>\n",
       "    </tr>\n",
       "    <tr>\n",
       "      <th>Date</th>\n",
       "      <th></th>\n",
       "      <th></th>\n",
       "      <th></th>\n",
       "      <th></th>\n",
       "      <th></th>\n",
       "      <th></th>\n",
       "    </tr>\n",
       "  </thead>\n",
       "  <tbody>\n",
       "    <tr>\n",
       "      <th>2022-01-03</th>\n",
       "      <td>616.349976</td>\n",
       "      <td>618.989990</td>\n",
       "      <td>599.109985</td>\n",
       "      <td>616.840027</td>\n",
       "      <td>616.576355</td>\n",
       "      <td>23100</td>\n",
       "    </tr>\n",
       "    <tr>\n",
       "      <th>2022-01-04</th>\n",
       "      <td>618.969971</td>\n",
       "      <td>621.000000</td>\n",
       "      <td>595.770020</td>\n",
       "      <td>608.419983</td>\n",
       "      <td>608.159912</td>\n",
       "      <td>23800</td>\n",
       "    </tr>\n",
       "    <tr>\n",
       "      <th>2022-01-05</th>\n",
       "      <td>604.109985</td>\n",
       "      <td>619.099976</td>\n",
       "      <td>604.000000</td>\n",
       "      <td>606.049988</td>\n",
       "      <td>605.790955</td>\n",
       "      <td>21700</td>\n",
       "    </tr>\n",
       "    <tr>\n",
       "      <th>2022-01-06</th>\n",
       "      <td>612.000000</td>\n",
       "      <td>628.840027</td>\n",
       "      <td>608.869995</td>\n",
       "      <td>625.770020</td>\n",
       "      <td>625.502563</td>\n",
       "      <td>26600</td>\n",
       "    </tr>\n",
       "    <tr>\n",
       "      <th>2022-01-07</th>\n",
       "      <td>622.190002</td>\n",
       "      <td>622.190002</td>\n",
       "      <td>600.000000</td>\n",
       "      <td>600.000000</td>\n",
       "      <td>599.743530</td>\n",
       "      <td>31100</td>\n",
       "    </tr>\n",
       "    <tr>\n",
       "      <th>...</th>\n",
       "      <td>...</td>\n",
       "      <td>...</td>\n",
       "      <td>...</td>\n",
       "      <td>...</td>\n",
       "      <td>...</td>\n",
       "      <td>...</td>\n",
       "    </tr>\n",
       "    <tr>\n",
       "      <th>2022-04-25</th>\n",
       "      <td>478.380005</td>\n",
       "      <td>489.000000</td>\n",
       "      <td>470.079987</td>\n",
       "      <td>485.140015</td>\n",
       "      <td>485.140015</td>\n",
       "      <td>40900</td>\n",
       "    </tr>\n",
       "    <tr>\n",
       "      <th>2022-04-26</th>\n",
       "      <td>485.410004</td>\n",
       "      <td>499.959991</td>\n",
       "      <td>470.790009</td>\n",
       "      <td>473.450012</td>\n",
       "      <td>473.450012</td>\n",
       "      <td>36900</td>\n",
       "    </tr>\n",
       "    <tr>\n",
       "      <th>2022-04-27</th>\n",
       "      <td>476.760010</td>\n",
       "      <td>478.850006</td>\n",
       "      <td>461.589996</td>\n",
       "      <td>462.000000</td>\n",
       "      <td>462.000000</td>\n",
       "      <td>35600</td>\n",
       "    </tr>\n",
       "    <tr>\n",
       "      <th>2022-04-28</th>\n",
       "      <td>463.820007</td>\n",
       "      <td>464.089996</td>\n",
       "      <td>448.750000</td>\n",
       "      <td>461.000000</td>\n",
       "      <td>461.000000</td>\n",
       "      <td>34700</td>\n",
       "    </tr>\n",
       "    <tr>\n",
       "      <th>2022-04-29</th>\n",
       "      <td>460.489990</td>\n",
       "      <td>462.500000</td>\n",
       "      <td>440.089996</td>\n",
       "      <td>441.500000</td>\n",
       "      <td>441.500000</td>\n",
       "      <td>33600</td>\n",
       "    </tr>\n",
       "  </tbody>\n",
       "</table>\n",
       "<p>82 rows × 6 columns</p>\n",
       "</div>"
      ],
      "text/plain": [
       "                  Open        High         Low       Close   Adj Close  Volume\n",
       "Date                                                                          \n",
       "2022-01-03  616.349976  618.989990  599.109985  616.840027  616.576355   23100\n",
       "2022-01-04  618.969971  621.000000  595.770020  608.419983  608.159912   23800\n",
       "2022-01-05  604.109985  619.099976  604.000000  606.049988  605.790955   21700\n",
       "2022-01-06  612.000000  628.840027  608.869995  625.770020  625.502563   26600\n",
       "2022-01-07  622.190002  622.190002  600.000000  600.000000  599.743530   31100\n",
       "...                ...         ...         ...         ...         ...     ...\n",
       "2022-04-25  478.380005  489.000000  470.079987  485.140015  485.140015   40900\n",
       "2022-04-26  485.410004  499.959991  470.790009  473.450012  473.450012   36900\n",
       "2022-04-27  476.760010  478.850006  461.589996  462.000000  462.000000   35600\n",
       "2022-04-28  463.820007  464.089996  448.750000  461.000000  461.000000   34700\n",
       "2022-04-29  460.489990  462.500000  440.089996  441.500000  441.500000   33600\n",
       "\n",
       "[82 rows x 6 columns]"
      ]
     },
     "execution_count": 12,
     "metadata": {},
     "output_type": "execute_result"
    }
   ],
   "source": [
    "test"
   ]
  },
  {
   "cell_type": "markdown",
   "id": "fc2ac4b5",
   "metadata": {},
   "source": [
    "### 3.1.2 Log the data"
   ]
  },
  {
   "cell_type": "code",
   "execution_count": 13,
   "id": "27bb6de4",
   "metadata": {},
   "outputs": [
    {
     "data": {
      "text/plain": [
       "<AxesSubplot:title={'center':'Log Open Stock Price of Coke (Training set)'}, xlabel='Date'>"
      ]
     },
     "execution_count": 13,
     "metadata": {},
     "output_type": "execute_result"
    },
    {
     "data": {
      "image/png": "[encoded data removed]",
      "text/plain": [
       "<Figure size 1152x576 with 1 Axes>"
      ]
     },
     "metadata": {
      "needs_background": "light"
     },
     "output_type": "display_data"
    }
   ],
   "source": [
    "# Log the training set data and test set data\n",
    "train_log = np.log(train['Open'])\n",
    "test_log = np.log(test['Open'])\n",
    "# Plot the log data\n",
    "plt.figure(figsize = (16,8))\n",
    "plt.title(\"Log Open Stock Price of Coke (Training set)\", fontsize=20)\n",
    "train_log.plot()## 3.1.3 Log the data"
   ]
  },
  {
   "cell_type": "markdown",
   "id": "7edf41db",
   "metadata": {},
   "source": [
    "### 3.1.3 Test the stationary"
   ]
  },
  {
   "cell_type": "markdown",
   "id": "3b8aa646",
   "metadata": {},
   "source": [
    "### a) ACF/PACF"
   ]
  },
  {
   "cell_type": "code",
   "execution_count": 14,
   "id": "b0479835",
   "metadata": {},
   "outputs": [
    {
     "data": {
      "text/plain": [
       "<Figure size 432x288 with 0 Axes>"
      ]
     },
     "metadata": {},
     "output_type": "display_data"
    },
    {
     "data": {
      "image/png": "[encoded data removed]",
      "text/plain": [
       "<Figure size 432x288 with 1 Axes>"
      ]
     },
     "metadata": {
      "needs_background": "light"
     },
     "output_type": "display_data"
    },
    {
     "data": {
      "text/plain": [
       "<Figure size 432x288 with 0 Axes>"
      ]
     },
     "metadata": {},
     "output_type": "display_data"
    },
    {
     "data": {
      "image/png": "[encoded data removed]",
      "text/plain": [
       "<Figure size 432x288 with 1 Axes>"
      ]
     },
     "metadata": {
      "needs_background": "light"
     },
     "output_type": "display_data"
    }
   ],
   "source": [
    "# ACF/PACF of the original log data\n",
    "plt.figure() \n",
    "plot_acf(train_log)\n",
    "plt.show()\n",
    "plt.figure()\n",
    "plot_pacf(train_log, method='ywm')\n",
    "plt.show()"
   ]
  },
  {
   "cell_type": "markdown",
   "id": "bc93179e",
   "metadata": {},
   "source": [
    "### b) ADF test"
   ]
  },
  {
   "cell_type": "code",
   "execution_count": 15,
   "id": "0a1c252c",
   "metadata": {
    "scrolled": true
   },
   "outputs": [
    {
     "name": "stdout",
     "output_type": "stream",
     "text": [
      "ADF test result of original training data: (0.7666230175850758, 0.9910778434159846, 1, 4953, {'1%': -3.431670955440146, '5%': -2.862123718245022, '10%': -2.567080714139114}, -24077.573515082076)\n"
     ]
    }
   ],
   "source": [
    "# Use ADF test to test if the original data is stationary\n",
    "print(u'ADF test result of original training data:', ADF(train_log))"
   ]
  },
  {
   "cell_type": "markdown",
   "id": "a71a9765",
   "metadata": {},
   "source": [
    "### Here the result is:\n",
    "\n",
    "adf、pvalue、usedlag、nobs、critical values、icbest、regresults、resstore\n",
    "\n",
    "p value: 0.9910778434159848 > 0.05, means the original data is non-stationary."
   ]
  },
  {
   "cell_type": "markdown",
   "id": "14054317",
   "metadata": {},
   "source": [
    "### 3.1.4 1st difference of log data"
   ]
  },
  {
   "cell_type": "code",
   "execution_count": 16,
   "id": "8b10efab",
   "metadata": {},
   "outputs": [
    {
     "data": {
      "text/plain": [
       "Date\n",
       "2002-05-01   -0.024539\n",
       "2002-05-02    0.019958\n",
       "2002-05-03    0.002791\n",
       "2002-05-06    0.003180\n",
       "2002-05-07   -0.023488\n",
       "                ...   \n",
       "2021-12-27   -0.016998\n",
       "2021-12-28    0.023565\n",
       "2021-12-29    0.010441\n",
       "2021-12-30    0.004293\n",
       "2021-12-31    0.004145\n",
       "Name: Open, Length: 4954, dtype: float64"
      ]
     },
     "execution_count": 16,
     "metadata": {},
     "output_type": "execute_result"
    }
   ],
   "source": [
    "# Difference the data and remove null values\n",
    "# This step is to remove the trend and make data stationary\n",
    "diff = train_log.diff(1).dropna() \n",
    "diff"
   ]
  },
  {
   "cell_type": "markdown",
   "id": "253bab5a",
   "metadata": {},
   "source": [
    "### a) Test the stationarity"
   ]
  },
  {
   "cell_type": "code",
   "execution_count": 17,
   "id": "9e657974",
   "metadata": {},
   "outputs": [
    {
     "name": "stdout",
     "output_type": "stream",
     "text": [
      "ADF test result of original data: (-75.85558452708824, 0.0, 0, 4953, {'1%': -3.431670955440146, '5%': -2.862123718245022, '10%': -2.567080714139114}, -24073.667788868734)\n"
     ]
    }
   ],
   "source": [
    "# Use ADF test to test if the 1st difference data is stationary\n",
    "print(u'ADF test result of original data:', ADF(diff))"
   ]
  },
  {
   "cell_type": "markdown",
   "id": "5bfe79be",
   "metadata": {},
   "source": [
    "Here the result is:\n",
    "\n",
    "adf、pvalue、usedlag、nobs、critical values、icbest、regresults、resstore\n",
    "\n",
    "p value: 0.0 < 0.05, means the 1st difference data is stationary."
   ]
  },
  {
   "cell_type": "markdown",
   "id": "3077c9bd",
   "metadata": {},
   "source": [
    "### b) Ljung-Box test\n",
    "Test if the 1st difference data is white noise"
   ]
  },
  {
   "cell_type": "code",
   "execution_count": 18,
   "id": "5c272c11",
   "metadata": {},
   "outputs": [
    {
     "data": {
      "text/plain": [
       "(array([27.79189231, 29.03850564, 29.53937362, 29.62266642, 30.28386857,\n",
       "        32.76346021, 33.73037473, 34.39860564, 35.80040674, 35.82114805,\n",
       "        38.01579699, 38.40211468, 40.80092492, 40.83412391, 42.32786111,\n",
       "        43.02333325, 43.53114405, 45.46214312, 48.47026098, 54.51258957,\n",
       "        55.01769466, 55.0787085 , 55.07871018, 63.8587202 , 67.11036483,\n",
       "        68.97397028, 68.97442308, 69.14940445, 74.35779736, 75.56485898,\n",
       "        76.42131345, 76.82102407, 77.20659113, 77.68808725, 77.86946044,\n",
       "        78.05455479, 78.52772638, 78.71985145, 79.27689089, 79.47105414]),\n",
       " array([1.35091053e-07, 4.94730424e-07, 1.72491048e-06, 5.84101348e-06,\n",
       "        1.29673590e-05, 1.16438369e-05, 1.93452680e-05, 3.43961172e-05,\n",
       "        4.30131804e-05, 9.03452491e-05, 7.77575326e-05, 1.31958399e-04,\n",
       "        1.02635502e-04, 1.88880789e-04, 2.00070000e-04, 2.77198117e-04,\n",
       "        4.01446053e-04, 3.55249119e-04, 2.19300752e-04, 4.85436657e-05,\n",
       "        7.02739862e-05, 1.15749265e-04, 1.90131719e-04, 1.78690272e-05,\n",
       "        1.02424830e-05, 9.34701024e-06, 1.56908217e-05, 2.44471009e-05,\n",
       "        7.51020510e-06, 8.40437005e-06, 1.04603950e-05, 1.49072632e-05,\n",
       "        2.10984340e-05, 2.86935077e-05, 4.22535866e-05, 6.13990348e-05,\n",
       "        8.12087002e-05, 1.15259028e-04, 1.46319951e-04, 2.03535182e-04]))"
      ]
     },
     "execution_count": 18,
     "metadata": {},
     "output_type": "execute_result"
    }
   ],
   "source": [
    "from statsmodels.stats.diagnostic import acorr_ljungbox as lb_test\n",
    "lb_test(diff, lags=40, boxpierce=False)\n",
    "# lb_stat\n",
    "# lb_pvalue"
   ]
  },
  {
   "cell_type": "markdown",
   "id": "50cbfba2",
   "metadata": {},
   "source": [
    "It shows that all the p values are less than 0.05.\n",
    "\n",
    "So the 1st difference data is not the white noise, and we can continue the analysis."
   ]
  },
  {
   "cell_type": "markdown",
   "id": "aeedce2a",
   "metadata": {},
   "source": [
    "### c) Plot the 1st difference data"
   ]
  },
  {
   "cell_type": "code",
   "execution_count": 19,
   "id": "5eef804d",
   "metadata": {},
   "outputs": [
    {
     "data": {
      "text/plain": [
       "<AxesSubplot:title={'center':'1st Difference of Log Open Stock Price of Coke'}, xlabel='Date'>"
      ]
     },
     "execution_count": 19,
     "metadata": {},
     "output_type": "execute_result"
    },
    {
     "data": {
      "image/png": "[encoded data removed]",
      "text/plain": [
       "<Figure size 1152x576 with 1 Axes>"
      ]
     },
     "metadata": {
      "needs_background": "light"
     },
     "output_type": "display_data"
    }
   ],
   "source": [
    "plt.figure(figsize = (16,8))\n",
    "plt.title(\"1st Difference of Log Open Stock Price of Coke\", fontsize=20)\n",
    "diff.plot()"
   ]
  },
  {
   "cell_type": "markdown",
   "id": "eb088634",
   "metadata": {},
   "source": [
    "From the figure above, we can see the mean of 1st difference data is constant"
   ]
  },
  {
   "cell_type": "markdown",
   "id": "742f631f",
   "metadata": {},
   "source": [
    "### d) ACF/PACF"
   ]
  },
  {
   "cell_type": "code",
   "execution_count": 20,
   "id": "7350671e",
   "metadata": {},
   "outputs": [
    {
     "data": {
      "text/plain": [
       "<Figure size 432x288 with 0 Axes>"
      ]
     },
     "metadata": {},
     "output_type": "display_data"
    },
    {
     "data": {
      "image/png": "[encoded data removed]",
      "text/plain": [
       "<Figure size 432x288 with 1 Axes>"
      ]
     },
     "metadata": {
      "needs_background": "light"
     },
     "output_type": "display_data"
    },
    {
     "data": {
      "text/plain": [
       "<Figure size 432x288 with 0 Axes>"
      ]
     },
     "metadata": {},
     "output_type": "display_data"
    },
    {
     "data": {
      "image/png": "[encoded data removed]",
      "text/plain": [
       "<Figure size 432x288 with 1 Axes>"
      ]
     },
     "metadata": {
      "needs_background": "light"
     },
     "output_type": "display_data"
    }
   ],
   "source": [
    "# ACF/PACF of 1st difference data\n",
    "plt.figure() \n",
    "plot_acf(diff)\n",
    "plt.show()\n",
    "plt.figure()\n",
    "plot_pacf(diff, method='ywm')\n",
    "plt.show()"
   ]
  },
  {
   "cell_type": "markdown",
   "id": "c4d09429",
   "metadata": {},
   "source": [
    "From ACF&PACF, we can find p_max is 2, q_max is 2."
   ]
  },
  {
   "cell_type": "markdown",
   "id": "828cff56",
   "metadata": {},
   "source": [
    "### 3.1.5 Fit the model"
   ]
  },
  {
   "cell_type": "markdown",
   "id": "ab7308af",
   "metadata": {},
   "source": [
    "### a) Use AIC to find the optimal model"
   ]
  },
  {
   "cell_type": "code",
   "execution_count": 22,
   "id": "5710fcf8",
   "metadata": {},
   "outputs": [
    {
     "data": {
      "text/plain": [
       "ARIMA(order=(1, 1, 0), scoring_args={}, suppress_warnings=True)"
      ]
     },
     "execution_count": 22,
     "metadata": {},
     "output_type": "execute_result"
    }
   ],
   "source": [
    "# Find the optimal model\n",
    "from pmdarima import auto_arima\n",
    "mod = auto_arima(train_log,start_p=0,d=1,start_q=0,max_p=2,max_d=2,max_q=2)\n",
    "mod.fit(train_log)"
   ]
  },
  {
   "cell_type": "markdown",
   "id": "ea7e75f7",
   "metadata": {},
   "source": [
    "### b) Model"
   ]
  },
  {
   "cell_type": "code",
   "execution_count": 23,
   "id": "3788a087",
   "metadata": {},
   "outputs": [
    {
     "name": "stdout",
     "output_type": "stream",
     "text": [
      "                               SARIMAX Results                                \n",
      "==============================================================================\n",
      "Dep. Variable:                   Open   No. Observations:                 4955\n",
      "Model:                 ARIMA(1, 1, 0)   Log Likelihood               12112.378\n",
      "Date:                Fri, 06 May 2022   AIC                         -24220.756\n",
      "Time:                        02:05:38   BIC                         -24207.740\n",
      "Sample:                             0   HQIC                        -24216.192\n",
      "                               - 4955                                         \n",
      "Covariance Type:                  opg                                         \n",
      "==============================================================================\n",
      "                 coef    std err          z      P>|z|      [0.025      0.975]\n",
      "------------------------------------------------------------------------------\n",
      "ar.L1         -0.0743      0.007    -10.560      0.000      -0.088      -0.060\n",
      "sigma2         0.0004   3.68e-06    119.754      0.000       0.000       0.000\n",
      "===================================================================================\n",
      "Ljung-Box (L1) (Q):                   0.00   Jarque-Bera (JB):             19781.85\n",
      "Prob(Q):                              0.99   Prob(JB):                         0.00\n",
      "Heteroskedasticity (H):               1.27   Skew:                             0.04\n",
      "Prob(H) (two-sided):                  0.00   Kurtosis:                        12.79\n",
      "===================================================================================\n",
      "\n",
      "Warnings:\n",
      "[1] Covariance matrix calculated using the outer product of gradients (complex-step).\n"
     ]
    }
   ],
   "source": [
    "# Define the model\n",
    "model = ARIMA(train_log, order=(1, 1, 0))\n",
    "result = model.fit()\n",
    "print(result.summary())"
   ]
  },
  {
   "cell_type": "markdown",
   "id": "7d9bb77d",
   "metadata": {},
   "source": [
    "### 3.1.6 Test the residuals"
   ]
  },
  {
   "cell_type": "markdown",
   "id": "eebe9ec9",
   "metadata": {},
   "source": [
    "### a) Plot the residuals"
   ]
  },
  {
   "cell_type": "code",
   "execution_count": 24,
   "id": "72ee9cb5",
   "metadata": {},
   "outputs": [
    {
     "data": {
      "text/plain": [
       "<AxesSubplot:xlabel='Date'>"
      ]
     },
     "execution_count": 24,
     "metadata": {},
     "output_type": "execute_result"
    },
    {
     "data": {
      "image/png": "[encoded data removed]",
      "text/plain": [
       "<Figure size 432x288 with 1 Axes>"
      ]
     },
     "metadata": {
      "needs_background": "light"
     },
     "output_type": "display_data"
    }
   ],
   "source": [
    "resid = result.resid\n",
    "# Plot the residuals\n",
    "plt.figure()\n",
    "resid.plot()"
   ]
  },
  {
   "cell_type": "markdown",
   "id": "f36b6a0e",
   "metadata": {},
   "source": [
    "### b) ACF"
   ]
  },
  {
   "cell_type": "code",
   "execution_count": 25,
   "id": "a674da4d",
   "metadata": {},
   "outputs": [
    {
     "data": {
      "text/plain": [
       "<Figure size 432x288 with 0 Axes>"
      ]
     },
     "metadata": {},
     "output_type": "display_data"
    },
    {
     "data": {
      "image/png": "[encoded data removed]",
      "text/plain": [
       "<Figure size 432x288 with 1 Axes>"
      ]
     },
     "metadata": {
      "needs_background": "light"
     },
     "output_type": "display_data"
    }
   ],
   "source": [
    "# ACF of the residual\n",
    "plt.figure()\n",
    "sm.graphics.tsa.plot_acf(resid.values.squeeze(), lags=40)\n",
    "plt.show()"
   ]
  },
  {
   "cell_type": "markdown",
   "id": "565e1da0",
   "metadata": {},
   "source": [
    "### c) QQplot"
   ]
  },
  {
   "cell_type": "code",
   "execution_count": 26,
   "id": "08c541ae",
   "metadata": {},
   "outputs": [
    {
     "name": "stdout",
     "output_type": "stream",
     "text": [
      "QQ plot\n"
     ]
    },
    {
     "data": {
      "text/plain": [
       "<Figure size 432x288 with 0 Axes>"
      ]
     },
     "metadata": {},
     "output_type": "display_data"
    },
    {
     "data": {
      "image/png": "[encoded data removed]",
      "text/plain": [
       "<Figure size 432x288 with 1 Axes>"
      ]
     },
     "metadata": {
      "needs_background": "light"
     },
     "output_type": "display_data"
    }
   ],
   "source": [
    "# QQplot\n",
    "fig = plt.figure()\n",
    "print(\"QQ plot\")\n",
    "fig = qqplot(resid, line='q', fit=True)\n",
    "plt.show()"
   ]
  },
  {
   "cell_type": "markdown",
   "id": "09b54ed7",
   "metadata": {},
   "source": [
    "ACF and QQplot show that the residuals of the model is white noise"
   ]
  },
  {
   "cell_type": "markdown",
   "id": "d3516d87",
   "metadata": {},
   "source": [
    "### d) Ljung-Box test"
   ]
  },
  {
   "cell_type": "code",
   "execution_count": 27,
   "id": "046d3e7c",
   "metadata": {},
   "outputs": [
    {
     "data": {
      "text/plain": [
       "(array([0.15487148, 0.29542886, 0.32128706, 0.33036756, 0.39538729,\n",
       "        0.39552088, 0.40825707, 1.2891652 , 1.44839047, 1.50139522,\n",
       "        2.46250302, 2.46339329, 3.08611844, 3.0861265 , 3.18695319,\n",
       "        3.19272471, 3.20010627, 3.24866208, 3.72242931, 3.73407623,\n",
       "        3.77411776, 3.77492185, 3.9501861 , 3.95965455, 4.23978407,\n",
       "        4.24352492, 4.26072528, 4.26076277, 4.94209772, 4.95530384,\n",
       "        4.95737791, 5.16955119, 5.18886089, 5.22084937, 5.24110559,\n",
       "        5.26353403, 5.29409641, 5.41406932, 5.42805488, 5.47565175]),\n",
       " array([0.6939228 , 0.86267743, 0.95597648, 0.98777044, 0.99545569,\n",
       "        0.99888782, 0.99971793, 0.99568035, 0.99751183, 0.99893097,\n",
       "        0.99609752, 0.99829166, 0.99760566, 0.99891188, 0.99941615,\n",
       "        0.99974345, 0.99988981, 0.99994913, 0.99993925, 0.99997368,\n",
       "        0.99998805, 0.99999514, 0.99999699, 0.99999877, 0.999999  ,\n",
       "        0.9999996 , 0.99999984, 0.99999994, 0.99999985, 0.99999994,\n",
       "        0.99999998, 0.99999998, 0.99999999, 1.        , 1.        ,\n",
       "        1.        , 1.        , 1.        , 1.        , 1.        ]))"
      ]
     },
     "execution_count": 27,
     "metadata": {},
     "output_type": "execute_result"
    }
   ],
   "source": [
    "# Ljung-Box test\n",
    "lb_test(resid, lags=40, boxpierce=False)\n",
    "# lb_stat\n",
    "# lb_pvalue"
   ]
  },
  {
   "cell_type": "markdown",
   "id": "e982ffdd",
   "metadata": {},
   "source": [
    "All the p values are bigger than 0.05.\n",
    "\n",
    "It shows that the residuals of the model is white noise.\n",
    "\n",
    "So we do not need to find another model."
   ]
  },
  {
   "cell_type": "markdown",
   "id": "c182dbfe",
   "metadata": {},
   "source": [
    "### 3.1.7 Forecasting"
   ]
  },
  {
   "cell_type": "markdown",
   "id": "53a1d4bc",
   "metadata": {},
   "source": [
    "### a) Forecasting the log data in the test set"
   ]
  },
  {
   "cell_type": "code",
   "execution_count": 28,
   "id": "9d247a95",
   "metadata": {},
   "outputs": [],
   "source": [
    "forecast_log = mod.predict(n_periods = 82)\n",
    "forecast_log = pd.DataFrame(forecast_log,index = test_log.index,columns=['Prediction'])"
   ]
  },
  {
   "cell_type": "code",
   "execution_count": 29,
   "id": "0b379e3e",
   "metadata": {},
   "outputs": [
    {
     "data": {
      "text/plain": [
       "[<matplotlib.lines.Line2D at 0x16edfc7e280>]"
      ]
     },
     "execution_count": 29,
     "metadata": {},
     "output_type": "execute_result"
    },
    {
     "data": {
      "image/png": "[encoded data removed]",
      "text/plain": [
       "<Figure size 1152x576 with 1 Axes>"
      ]
     },
     "metadata": {
      "needs_background": "light"
     },
     "output_type": "display_data"
    }
   ],
   "source": [
    "# Forecasting data in test dataset\n",
    "plt.figure(figsize = (16,8))\n",
    "plt.title(\"Forecasting comparison in test set (Log)\", fontsize=20)\n",
    "plt.plot(test_log)\n",
    "plt.plot(forecast_log['Prediction'])"
   ]
  },
  {
   "cell_type": "markdown",
   "id": "52036266",
   "metadata": {},
   "source": [
    "### MSE"
   ]
  },
  {
   "cell_type": "code",
   "execution_count": 30,
   "id": "3d7b5ac8",
   "metadata": {},
   "outputs": [
    {
     "data": {
      "text/plain": [
       "0.04583937236443556"
      ]
     },
     "execution_count": 30,
     "metadata": {},
     "output_type": "execute_result"
    }
   ],
   "source": [
    "from sklearn.metrics import mean_squared_error\n",
    "mse = mean_squared_error(test_log, forecast_log['Prediction'])\n",
    "mse"
   ]
  },
  {
   "cell_type": "markdown",
   "id": "4e25ca39",
   "metadata": {},
   "source": [
    "### RMSE"
   ]
  },
  {
   "cell_type": "code",
   "execution_count": 31,
   "id": "cee96e74",
   "metadata": {},
   "outputs": [
    {
     "data": {
      "text/plain": [
       "0.21410131331786725"
      ]
     },
     "execution_count": 31,
     "metadata": {},
     "output_type": "execute_result"
    }
   ],
   "source": [
    "rmse = np.sqrt(mse)\n",
    "rmse"
   ]
  },
  {
   "cell_type": "markdown",
   "id": "0b29427e",
   "metadata": {},
   "source": [
    "### b) Remove the log and forecasting the original data"
   ]
  },
  {
   "cell_type": "code",
   "execution_count": 32,
   "id": "b2fa9ec5",
   "metadata": {},
   "outputs": [],
   "source": [
    "# Forecasting the data and remove the log (back to original data)\n",
    "forecast = np.exp(mod.predict(n_periods = 82))\n",
    "forecast = pd.DataFrame(forecast,index = test['Open'].index,columns=['Prediction'])"
   ]
  },
  {
   "cell_type": "code",
   "execution_count": 33,
   "id": "a1b212ed",
   "metadata": {},
   "outputs": [
    {
     "data": {
      "text/plain": [
       "[<matplotlib.lines.Line2D at 0x16edfcf6250>]"
      ]
     },
     "execution_count": 33,
     "metadata": {},
     "output_type": "execute_result"
    },
    {
     "data": {
      "image/png": "[encoded data removed]",
      "text/plain": [
       "<Figure size 1152x576 with 1 Axes>"
      ]
     },
     "metadata": {
      "needs_background": "light"
     },
     "output_type": "display_data"
    }
   ],
   "source": [
    "# Forecasting data in test dataset\n",
    "plt.figure(figsize = (16,8))\n",
    "plt.title(\"Forecasting comparison in test set (original)\", fontsize=20)\n",
    "plt.plot(test['Open'])\n",
    "plt.plot(forecast['Prediction'])"
   ]
  },
  {
   "cell_type": "code",
   "execution_count": 34,
   "id": "66c5fa58",
   "metadata": {},
   "outputs": [
    {
     "data": {
      "text/plain": [
       "[<matplotlib.lines.Line2D at 0x16edff3abb0>]"
      ]
     },
     "execution_count": 34,
     "metadata": {},
     "output_type": "execute_result"
    },
    {
     "data": {
      "image/png": "[encoded data removed]",
      "text/plain": [
       "<Figure size 1152x576 with 1 Axes>"
      ]
     },
     "metadata": {
      "needs_background": "light"
     },
     "output_type": "display_data"
    }
   ],
   "source": [
    "# Forecasting data in all dataset\n",
    "plt.figure(figsize = (16,8))\n",
    "plt.title(\"Forecasting comparison in all data (original)\", fontsize=20)\n",
    "plt.plot(train['Open'])\n",
    "plt.plot(test['Open'])\n",
    "plt.plot(forecast['Prediction'])"
   ]
  },
  {
   "cell_type": "markdown",
   "id": "d0ccbf71",
   "metadata": {},
   "source": [
    "### MSE"
   ]
  },
  {
   "cell_type": "code",
   "execution_count": 35,
   "id": "4633fea7",
   "metadata": {},
   "outputs": [
    {
     "data": {
      "text/plain": [
       "14117.05341309031"
      ]
     },
     "execution_count": 35,
     "metadata": {},
     "output_type": "execute_result"
    }
   ],
   "source": [
    "from sklearn.metrics import mean_squared_error\n",
    "mse = mean_squared_error(test['Open'], forecast['Prediction'])\n",
    "mse"
   ]
  },
  {
   "cell_type": "markdown",
   "id": "38eeef14",
   "metadata": {},
   "source": [
    "### RMSE"
   ]
  },
  {
   "cell_type": "code",
   "execution_count": 36,
   "id": "eb315712",
   "metadata": {},
   "outputs": [
    {
     "data": {
      "text/plain": [
       "118.81520699426615"
      ]
     },
     "execution_count": 36,
     "metadata": {},
     "output_type": "execute_result"
    }
   ],
   "source": [
    "rmse = np.sqrt(mse)\n",
    "rmse"
   ]
  },
  {
   "cell_type": "markdown",
   "id": "21de9a65",
   "metadata": {},
   "source": [
    "We can see that the MSE and RMSE of orignal data is super high that it seems the model can not predict the future price well.\n",
    "\n",
    "mIn contrast, the MSE and RMSE of log data is extremely low because log reduces the range of data."
   ]
  },
  {
   "cell_type": "markdown",
   "id": "bc99b313",
   "metadata": {},
   "source": [
    "## 3.2 LSTM"
   ]
  },
  {
   "cell_type": "markdown",
   "id": "e4b9f4cc",
   "metadata": {},
   "source": [
    "### 3.2.1 Divide the dataset into two parts(train set and test set)"
   ]
  },
  {
   "cell_type": "code",
   "execution_count": 37,
   "id": "28f08157",
   "metadata": {},
   "outputs": [],
   "source": [
    "train_set = dataset[:'2021'].iloc[:,[0]].values # Using the opening price data from 4/30/2002 to 12/31/2021 as the train set\n",
    "test_set = dataset['2022':].iloc[:,[0]].values  # Using the opening price data from 1/3/2022 to 4/29/2022 as the test set"
   ]
  },
  {
   "cell_type": "code",
   "execution_count": 38,
   "id": "eabfb961",
   "metadata": {},
   "outputs": [
    {
     "data": {
      "text/plain": [
       "(4955, 1)"
      ]
     },
     "execution_count": 38,
     "metadata": {},
     "output_type": "execute_result"
    }
   ],
   "source": [
    "train_set.shape"
   ]
  },
  {
   "cell_type": "code",
   "execution_count": 39,
   "id": "d273387a",
   "metadata": {},
   "outputs": [
    {
     "data": {
      "text/plain": [
       "(82, 1)"
      ]
     },
     "execution_count": 39,
     "metadata": {},
     "output_type": "execute_result"
    }
   ],
   "source": [
    "test_set.shape"
   ]
  },
  {
   "cell_type": "code",
   "execution_count": 40,
   "id": "76df6732",
   "metadata": {},
   "outputs": [],
   "source": [
    "def plot_predictions(test_result,predict_result):\n",
    "    '''\n",
    "    test_result：true value\n",
    "    predict_result：predicted value\n",
    "    '''\n",
    "    plt.plot(test_result,color='red',label='Coke True Stock Price')\n",
    "    plt.plot(predict_result,color='blue',label='Coke Predicted Stock Price')\n",
    "    plt.title('Coke True Stock Price')\n",
    "    plt.xlabel('Time')\n",
    "    plt.ylabel('Stock Price')\n",
    "    plt.legend() \n",
    "    plt.show()\n",
    "    "
   ]
  },
  {
   "cell_type": "code",
   "execution_count": 41,
   "id": "19fe15c1",
   "metadata": {},
   "outputs": [
    {
     "data": {
      "image/png": "[encoded data removed]",
      "text/plain": [
       "<Figure size 1152x288 with 1 Axes>"
      ]
     },
     "metadata": {
      "needs_background": "light"
     },
     "output_type": "display_data"
    }
   ],
   "source": [
    "dataset['Open'][:'2021'].plot(figsize=(16,4),legend=True) \n",
    "dataset['Open']['2022':].plot(figsize=(16,4),legend=True)\n",
    "plt.title('Coke Stock Price')\n",
    "plt.legend(['Train set','Test set'])\n",
    "plt.show()"
   ]
  },
  {
   "cell_type": "code",
   "execution_count": 42,
   "id": "0aed0744",
   "metadata": {},
   "outputs": [],
   "source": [
    "#scaling data to a given range\n",
    "sc = MinMaxScaler(feature_range=[0,1])\n",
    "train_set_scaled = sc.fit_transform(train_set)"
   ]
  },
  {
   "cell_type": "code",
   "execution_count": 43,
   "id": "11e542e7",
   "metadata": {},
   "outputs": [],
   "source": [
    "#Using 60 historical data as one sample to predict one output(the next opening price)\n",
    "X_train = []\n",
    "Y_train = []\n",
    "for i in range(60,4955):\n",
    "    X_train.append(train_set_scaled[i-60:i,0])\n",
    "    Y_train.append(train_set_scaled[i,0])\n",
    "\n",
    "X_train,Y_train = np.array(X_train),np.array(Y_train)  "
   ]
  },
  {
   "cell_type": "code",
   "execution_count": 44,
   "id": "7249f1d9",
   "metadata": {},
   "outputs": [
    {
     "data": {
      "text/plain": [
       "(4895, 60)"
      ]
     },
     "execution_count": 44,
     "metadata": {},
     "output_type": "execute_result"
    }
   ],
   "source": [
    "X_train.shape  #4390 samples"
   ]
  },
  {
   "cell_type": "code",
   "execution_count": 45,
   "id": "400281d2",
   "metadata": {},
   "outputs": [
    {
     "data": {
      "text/plain": [
       "array([0.03023037, 0.02814079, 0.02983643, 0.03007622, 0.03035026,\n",
       "       0.02834632, 0.02745568, 0.02620536, 0.02108418, 0.02024492,\n",
       "       0.02168365, 0.02755845, 0.02704462, 0.02403014, 0.02452685,\n",
       "       0.02367046, 0.02372184, 0.024681  , 0.0243727 , 0.02706174,\n",
       "       0.02791813, 0.02742142, 0.02752419, 0.02964803, 0.02711312,\n",
       "       0.0255545 , 0.02522908, 0.02452685, 0.02449259, 0.02176929,\n",
       "       0.02195769, 0.02161514, 0.01981673, 0.02110131, 0.02240301,\n",
       "       0.02195769, 0.02154663, 0.02038195, 0.01904599, 0.01933716,\n",
       "       0.01853216, 0.01656247, 0.01774428, 0.01878908, 0.0188062 ,\n",
       "       0.01767577, 0.01663098, 0.01647683, 0.01817248, 0.01690502,\n",
       "       0.01909737, 0.01555194, 0.0168879 , 0.01594588, 0.01680226,\n",
       "       0.01856641, 0.0193029 , 0.01937142, 0.01767577, 0.01640832])"
      ]
     },
     "execution_count": 45,
     "metadata": {},
     "output_type": "execute_result"
    }
   ],
   "source": [
    "X_train[0] "
   ]
  },
  {
   "cell_type": "code",
   "execution_count": 46,
   "id": "7a0dbdef",
   "metadata": {},
   "outputs": [],
   "source": [
    "# structure of LSTM :(samples, sequence, length,features)\n",
    "# reshape:train_set(4390,60)---->(4390,60,1)\n",
    "X_train = np.reshape(X_train,(X_train.shape[0],X_train.shape[1],1))"
   ]
  },
  {
   "cell_type": "code",
   "execution_count": 47,
   "id": "e6394a62",
   "metadata": {},
   "outputs": [
    {
     "data": {
      "text/plain": [
       "(4895, 60, 1)"
      ]
     },
     "execution_count": 47,
     "metadata": {},
     "output_type": "execute_result"
    }
   ],
   "source": [
    "X_train.shape"
   ]
  },
  {
   "cell_type": "markdown",
   "id": "3e4ab41f",
   "metadata": {},
   "source": [
    "### 3.2.2 Fit the Model\n",
    "Please don't run this part."
   ]
  },
  {
   "cell_type": "code",
   "execution_count": 18,
   "id": "09395e8b",
   "metadata": {},
   "outputs": [],
   "source": [
    "model = Sequential()  \n",
    "#LSTM first layer\n",
    "model.add(LSTM(128,return_sequences=True,input_shape=(X_train.shape[1],1)))\n",
    "model.add(Dropout(0.2))  \n",
    "\n",
    "#LSTM second layer\n",
    "model.add(LSTM(128,return_sequences=True))\n",
    "model.add(Dropout(0.2))\n",
    "\n",
    "#LSTM third layer\n",
    "model.add(LSTM(128))\n",
    "model.add(Dropout(0.2))\n",
    "\n",
    "#Dense layer\n",
    "model.add(Dense(units=1))"
   ]
  },
  {
   "cell_type": "code",
   "execution_count": 19,
   "id": "0d597ee9",
   "metadata": {},
   "outputs": [
    {
     "name": "stdout",
     "output_type": "stream",
     "text": [
      "Epoch 1/25\n",
      "153/153 [==============================] - 29s 161ms/step - loss: 0.0036\n",
      "Epoch 2/25\n",
      "153/153 [==============================] - 25s 164ms/step - loss: 0.0014\n",
      "Epoch 3/25\n",
      "153/153 [==============================] - 24s 156ms/step - loss: 0.0010\n",
      "Epoch 4/25\n",
      "153/153 [==============================] - 23s 152ms/step - loss: 8.9307e-04\n",
      "Epoch 5/25\n",
      "153/153 [==============================] - 23s 149ms/step - loss: 8.2694e-04\n",
      "Epoch 6/25\n",
      "153/153 [==============================] - 24s 155ms/step - loss: 7.6671e-04\n",
      "Epoch 7/25\n",
      "153/153 [==============================] - 23s 150ms/step - loss: 6.0607e-04\n",
      "Epoch 8/25\n",
      "153/153 [==============================] - 24s 158ms/step - loss: 6.3782e-04\n",
      "Epoch 9/25\n",
      "153/153 [==============================] - 29s 187ms/step - loss: 5.5826e-04\n",
      "Epoch 10/25\n",
      "153/153 [==============================] - 28s 186ms/step - loss: 6.2717e-04\n",
      "Epoch 11/25\n",
      "153/153 [==============================] - 28s 181ms/step - loss: 5.6258e-04\n",
      "Epoch 12/25\n",
      "153/153 [==============================] - 27s 179ms/step - loss: 5.3899e-04\n",
      "Epoch 13/25\n",
      "153/153 [==============================] - 27s 178ms/step - loss: 4.8989e-04\n",
      "Epoch 14/25\n",
      "153/153 [==============================] - 27s 178ms/step - loss: 4.6857e-04\n",
      "Epoch 15/25\n",
      "153/153 [==============================] - 28s 184ms/step - loss: 4.6612e-04\n",
      "Epoch 16/25\n",
      "153/153 [==============================] - 27s 179ms/step - loss: 4.4240e-04\n",
      "Epoch 17/25\n",
      "153/153 [==============================] - 27s 180ms/step - loss: 4.5048e-04\n",
      "Epoch 18/25\n",
      "153/153 [==============================] - 28s 183ms/step - loss: 3.9385e-04\n",
      "Epoch 19/25\n",
      "153/153 [==============================] - 28s 182ms/step - loss: 4.0955e-04\n",
      "Epoch 20/25\n",
      "153/153 [==============================] - 27s 178ms/step - loss: 3.9345e-04\n",
      "Epoch 21/25\n",
      "153/153 [==============================] - 27s 178ms/step - loss: 4.1598e-04\n",
      "Epoch 22/25\n",
      "153/153 [==============================] - 28s 181ms/step - loss: 3.9916e-04\n",
      "Epoch 23/25\n",
      "153/153 [==============================] - 27s 179ms/step - loss: 3.5799e-04\n",
      "Epoch 24/25\n",
      "153/153 [==============================] - 28s 181ms/step - loss: 3.7250e-04\n",
      "Epoch 25/25\n",
      "153/153 [==============================] - 30s 196ms/step - loss: 3.6492e-04\n"
     ]
    },
    {
     "data": {
      "text/plain": [
       "<keras.callbacks.History at 0x11348ae61c0>"
      ]
     },
     "execution_count": 19,
     "metadata": {},
     "output_type": "execute_result"
    }
   ],
   "source": [
    "\n",
    "model.compile(optimizer='rmsprop',loss='mse')   \n",
    "\n",
    "\n",
    "model.fit(X_train,Y_train,epochs=25,batch_size=32) "
   ]
  },
  {
   "cell_type": "code",
   "execution_count": 20,
   "id": "c2bcb429",
   "metadata": {},
   "outputs": [],
   "source": [
    "#save model to a single file\n",
    "model.save('lstm_model.h5')"
   ]
  },
  {
   "cell_type": "markdown",
   "id": "1f3cb192",
   "metadata": {},
   "source": [
    "### 3.2.3 Load Model and Make Prediction\n",
    "Please download the file lstm_model.h5 first."
   ]
  },
  {
   "cell_type": "code",
   "execution_count": 48,
   "id": "a66bd5ca",
   "metadata": {},
   "outputs": [],
   "source": [
    "lstm_model =load_model('lstm_model.h5')"
   ]
  },
  {
   "cell_type": "code",
   "execution_count": 49,
   "id": "14d6f1e8",
   "metadata": {},
   "outputs": [],
   "source": [
    "dataset_total = pd.concat((dataset['Open'][:'2021'],dataset['Open']['2022':]),axis=0)\n",
    "\n",
    "inputs = dataset_total[len(dataset_total)-len(test_set)-60:].values"
   ]
  },
  {
   "cell_type": "code",
   "execution_count": 50,
   "id": "9f28584e",
   "metadata": {},
   "outputs": [
    {
     "data": {
      "text/plain": [
       "array([403.019989, 408.399994, 405.73999 , 399.220001, 400.200012,\n",
       "       404.      , 402.380005, 395.5     , 392.779999, 394.570007,\n",
       "       395.950012, 394.299988, 394.429993, 397.480011, 395.799988,\n",
       "       394.470001, 396.829987, 404.98999 , 415.      , 411.359985,\n",
       "       419.309998, 416.98999 , 437.339996, 424.100006, 422.899994,\n",
       "       477.959991, 499.      , 510.799988, 515.      , 519.780029,\n",
       "       528.809998, 553.      , 560.109985, 580.      , 586.48999 ,\n",
       "       584.880005, 600.      , 573.799988, 571.150024, 569.23999 ,\n",
       "       585.119995, 578.25    , 567.      , 562.      , 559.72998 ,\n",
       "       539.359985, 540.52002 , 541.700012, 536.530029, 557.099976,\n",
       "       552.98999 , 545.820007, 592.929993, 590.150024, 601.039978,\n",
       "       590.909973, 605.      , 611.349976, 613.97998 , 616.530029,\n",
       "       616.349976, 618.969971, 604.109985, 612.      , 622.190002,\n",
       "       599.099976, 592.830017, 597.47998 , 607.469971, 618.97998 ,\n",
       "       611.929993, 598.450012, 577.01001 , 576.      , 571.950012,\n",
       "       599.099976, 595.200012, 587.349976, 566.359985, 577.919983,\n",
       "       576.650024, 567.98999 , 558.      , 571.299988, 569.890015,\n",
       "       560.799988, 578.      , 573.940002, 560.      , 576.299988,\n",
       "       590.200012, 573.900024, 564.669983, 562.900024, 568.619995,\n",
       "       560.599976, 439.049988, 447.      , 481.980011, 491.769989,\n",
       "       485.98999 , 492.850006, 464.070007, 452.609985, 439.73999 ,\n",
       "       461.26001 , 465.209991, 474.049988, 450.450012, 456.48999 ,\n",
       "       490.540009, 489.440002, 495.160004, 507.040009, 499.75    ,\n",
       "       490.790009, 485.109985, 478.390015, 485.      , 488.290009,\n",
       "       495.23999 , 489.      , 502.      , 517.609985, 505.950012,\n",
       "       491.269989, 498.929993, 495.359985, 482.450012, 487.299988,\n",
       "       489.309998, 497.700012, 495.      , 480.100006, 491.459991,\n",
       "       499.5     , 491.25    , 478.380005, 485.410004, 476.76001 ,\n",
       "       463.820007, 460.48999 ])"
      ]
     },
     "execution_count": 50,
     "metadata": {},
     "output_type": "execute_result"
    }
   ],
   "source": [
    "inputs"
   ]
  },
  {
   "cell_type": "code",
   "execution_count": 51,
   "id": "03f30fb1",
   "metadata": {},
   "outputs": [],
   "source": [
    "#normalization\n",
    "inputs = inputs.reshape(-1,1)\n",
    "inputs = sc.transform(inputs)  "
   ]
  },
  {
   "cell_type": "code",
   "execution_count": 52,
   "id": "e30fb4a6",
   "metadata": {},
   "outputs": [
    {
     "data": {
      "text/plain": [
       "(142, 1)"
      ]
     },
     "execution_count": 52,
     "metadata": {},
     "output_type": "execute_result"
    }
   ],
   "source": [
    "inputs.shape"
   ]
  },
  {
   "cell_type": "code",
   "execution_count": 53,
   "id": "39a80a4d",
   "metadata": {},
   "outputs": [
    {
     "data": {
      "text/plain": [
       "(82, 60)"
      ]
     },
     "execution_count": 53,
     "metadata": {},
     "output_type": "execute_result"
    }
   ],
   "source": [
    "#getting test set X_test\n",
    "X_test = []\n",
    "for i in range(60,142):\n",
    "    X_test.append(inputs[i-60:i,0])\n",
    "    \n",
    "X_test = np.array(X_test)   \n",
    "\n",
    "X_test.shape"
   ]
  },
  {
   "cell_type": "code",
   "execution_count": 54,
   "id": "8597a4c0",
   "metadata": {},
   "outputs": [],
   "source": [
    "X_test = np.reshape(X_test,(X_test.shape[0],X_test.shape[1],1))"
   ]
  },
  {
   "cell_type": "code",
   "execution_count": 55,
   "id": "5f721941",
   "metadata": {},
   "outputs": [
    {
     "data": {
      "text/plain": [
       "(82, 60, 1)"
      ]
     },
     "execution_count": 55,
     "metadata": {},
     "output_type": "execute_result"
    }
   ],
   "source": [
    "X_test.shape"
   ]
  },
  {
   "cell_type": "code",
   "execution_count": 56,
   "id": "507ac052",
   "metadata": {},
   "outputs": [],
   "source": [
    "predict_test = lstm_model.predict(X_test) "
   ]
  },
  {
   "cell_type": "code",
   "execution_count": 57,
   "id": "8feb3401",
   "metadata": {},
   "outputs": [
    {
     "data": {
      "text/plain": [
       "array([[0.9621474 ],\n",
       "       [0.9639286 ],\n",
       "       [0.9665224 ],\n",
       "       [0.95472425],\n",
       "       [0.95455354],\n",
       "       [0.96452457],\n",
       "       [0.95051146],\n",
       "       [0.93593365],\n",
       "       [0.9325298 ],\n",
       "       [0.94136626],\n",
       "       [0.95732194],\n",
       "       [0.9592939 ],\n",
       "       [0.9466962 ],\n",
       "       [0.9202364 ],\n",
       "       [0.90518624],\n",
       "       [0.89610785],\n",
       "       [0.9167683 ],\n",
       "       [0.9267641 ],\n",
       "       [0.92350394],\n",
       "       [0.90152293],\n",
       "       [0.89870805],\n",
       "       [0.89861584],\n",
       "       [0.89203745],\n",
       "       [0.87940276],\n",
       "       [0.884089  ],\n",
       "       [0.88729495],\n",
       "       [0.88103616],\n",
       "       [0.89173275],\n",
       "       [0.89514786],\n",
       "       [0.8840219 ],\n",
       "       [0.89091855],\n",
       "       [0.9085267 ],\n",
       "       [0.90410286],\n",
       "       [0.89134103],\n",
       "       [0.88223034],\n",
       "       [0.88350517],\n",
       "       [0.87871045],\n",
       "       [0.77392167],\n",
       "       [0.71495384],\n",
       "       [0.7193638 ],\n",
       "       [0.74245507],\n",
       "       [0.7514817 ],\n",
       "       [0.7591718 ],\n",
       "       [0.7370245 ],\n",
       "       [0.7122291 ],\n",
       "       [0.68836695],\n",
       "       [0.69556075],\n",
       "       [0.70789117],\n",
       "       [0.72291374],\n",
       "       [0.70984036],\n",
       "       [0.7046028 ],\n",
       "       [0.7327219 ],\n",
       "       [0.7508189 ],\n",
       "       [0.76348823],\n",
       "       [0.77883226],\n",
       "       [0.7799129 ],\n",
       "       [0.77066344],\n",
       "       [0.7595935 ],\n",
       "       [0.7481553 ],\n",
       "       [0.748376  ],\n",
       "       [0.75310993],\n",
       "       [0.76223844],\n",
       "       [0.7616419 ],\n",
       "       [0.7712589 ],\n",
       "       [0.79082865],\n",
       "       [0.7913395 ],\n",
       "       [0.7762162 ],\n",
       "       [0.772993  ],\n",
       "       [0.76999265],\n",
       "       [0.75777704],\n",
       "       [0.75468385],\n",
       "       [0.75612956],\n",
       "       [0.7650001 ],\n",
       "       [0.767914  ],\n",
       "       [0.75550944],\n",
       "       [0.7570027 ],\n",
       "       [0.7666281 ],\n",
       "       [0.7655566 ],\n",
       "       [0.75238776],\n",
       "       [0.7501332 ],\n",
       "       [0.74308246],\n",
       "       [0.7281167 ]], dtype=float32)"
      ]
     },
     "execution_count": 57,
     "metadata": {},
     "output_type": "execute_result"
    }
   ],
   "source": [
    "predict_test"
   ]
  },
  {
   "cell_type": "code",
   "execution_count": 58,
   "id": "56806edf",
   "metadata": {},
   "outputs": [
    {
     "data": {
      "text/plain": [
       "(82, 1)"
      ]
     },
     "execution_count": 58,
     "metadata": {},
     "output_type": "execute_result"
    }
   ],
   "source": [
    "predict_test.shape"
   ]
  },
  {
   "cell_type": "code",
   "execution_count": 59,
   "id": "b150cb47",
   "metadata": {},
   "outputs": [],
   "source": [
    "predict_stock_price = sc.inverse_transform(predict_test) #getting predicted price from normalized data "
   ]
  },
  {
   "cell_type": "code",
   "execution_count": 60,
   "id": "e5caecdc",
   "metadata": {},
   "outputs": [
    {
     "data": {
      "text/plain": [
       "array([[594.42975],\n",
       "       [595.4697 ],\n",
       "       [596.98413],\n",
       "       [590.09576],\n",
       "       [589.9961 ],\n",
       "       [595.8177 ],\n",
       "       [587.63617],\n",
       "       [579.1249 ],\n",
       "       [577.1376 ],\n",
       "       [582.29675],\n",
       "       [591.6124 ],\n",
       "       [592.76373],\n",
       "       [585.40857],\n",
       "       [569.9601 ],\n",
       "       [561.17303],\n",
       "       [555.8726 ],\n",
       "       [567.93524],\n",
       "       [573.77124],\n",
       "       [571.8678 ],\n",
       "       [559.0342 ],\n",
       "       [557.39075],\n",
       "       [557.3369 ],\n",
       "       [553.4961 ],\n",
       "       [546.1193 ],\n",
       "       [548.8554 ],\n",
       "       [550.7272 ],\n",
       "       [547.073  ],\n",
       "       [553.3182 ],\n",
       "       [555.31213],\n",
       "       [548.8162 ],\n",
       "       [552.84283],\n",
       "       [563.12335],\n",
       "       [560.54047],\n",
       "       [553.0895 ],\n",
       "       [547.7702 ],\n",
       "       [548.5145 ],\n",
       "       [545.71515],\n",
       "       [484.5342 ],\n",
       "       [450.10583],\n",
       "       [452.6806 ],\n",
       "       [466.1624 ],\n",
       "       [471.43262],\n",
       "       [475.9225 ],\n",
       "       [462.99176],\n",
       "       [448.51498],\n",
       "       [434.58307],\n",
       "       [438.78317],\n",
       "       [445.9823 ],\n",
       "       [454.7532 ],\n",
       "       [447.12033],\n",
       "       [444.06235],\n",
       "       [460.47974],\n",
       "       [471.04565],\n",
       "       [478.44263],\n",
       "       [487.40125],\n",
       "       [488.03217],\n",
       "       [482.63187],\n",
       "       [476.1687 ],\n",
       "       [469.4905 ],\n",
       "       [469.61935],\n",
       "       [472.38327],\n",
       "       [477.71295],\n",
       "       [477.36465],\n",
       "       [482.97952],\n",
       "       [494.40533],\n",
       "       [494.7036 ],\n",
       "       [485.87387],\n",
       "       [483.992  ],\n",
       "       [482.24023],\n",
       "       [475.10815],\n",
       "       [473.3022 ],\n",
       "       [474.14627],\n",
       "       [479.32535],\n",
       "       [481.0266 ],\n",
       "       [473.7842 ],\n",
       "       [474.65607],\n",
       "       [480.27585],\n",
       "       [479.65024],\n",
       "       [471.96164],\n",
       "       [470.6453 ],\n",
       "       [466.52872],\n",
       "       [457.79095]], dtype=float32)"
      ]
     },
     "execution_count": 60,
     "metadata": {},
     "output_type": "execute_result"
    }
   ],
   "source": [
    "predict_stock_price"
   ]
  },
  {
   "cell_type": "code",
   "execution_count": 61,
   "id": "0788d391",
   "metadata": {},
   "outputs": [
    {
     "data": {
      "image/png": "[encoded data removed]",
      "text/plain": [
       "<Figure size 432x288 with 1 Axes>"
      ]
     },
     "metadata": {
      "needs_background": "light"
     },
     "output_type": "display_data"
    }
   ],
   "source": [
    "plot_predictions(test_set,predict_stock_price)"
   ]
  },
  {
   "cell_type": "markdown",
   "id": "add463b9",
   "metadata": {},
   "source": [
    "### MSE and RMSE"
   ]
  },
  {
   "cell_type": "code",
   "execution_count": 62,
   "id": "30cd7a13",
   "metadata": {},
   "outputs": [
    {
     "name": "stdout",
     "output_type": "stream",
     "text": [
      "23.29578400154224\n"
     ]
    }
   ],
   "source": [
    "mse = mean_squared_error(test_set,predict_stock_price)\n",
    "rmse = np.sqrt(mse)\n",
    "print(rmse)"
   ]
  },
  {
   "cell_type": "markdown",
   "id": "e1829acb",
   "metadata": {},
   "source": [
    "## 3.3 GRU"
   ]
  },
  {
   "cell_type": "markdown",
   "id": "1f525247",
   "metadata": {},
   "source": [
    "We use the same train set and test set in GRU as in LSTM."
   ]
  },
  {
   "cell_type": "markdown",
   "id": "7371a1cf",
   "metadata": {},
   "source": [
    "### 3.3.1 Fit the Model\n",
    "Please don't run this part."
   ]
  },
  {
   "cell_type": "code",
   "execution_count": 63,
   "id": "c2d41a81",
   "metadata": {},
   "outputs": [],
   "source": [
    "model_gru = Sequential()"
   ]
  },
  {
   "cell_type": "code",
   "execution_count": 64,
   "id": "991fed8c",
   "metadata": {},
   "outputs": [],
   "source": [
    "model_gru.add(GRU(50,return_sequences=True, input_shape=(X_train.shape[1],1),activation='tanh'))"
   ]
  },
  {
   "cell_type": "code",
   "execution_count": 65,
   "id": "461ca357",
   "metadata": {},
   "outputs": [],
   "source": [
    "model_gru.add(Dropout(0.2))"
   ]
  },
  {
   "cell_type": "code",
   "execution_count": 66,
   "id": "ba358e99",
   "metadata": {},
   "outputs": [],
   "source": [
    "model_gru.add(GRU(50,activation='tanh'))"
   ]
  },
  {
   "cell_type": "code",
   "execution_count": 67,
   "id": "4b9852d0",
   "metadata": {},
   "outputs": [],
   "source": [
    "model_gru.add(Dropout(0.2))"
   ]
  },
  {
   "cell_type": "code",
   "execution_count": 42,
   "id": "32410fc5",
   "metadata": {},
   "outputs": [],
   "source": [
    "model_gru.add(Dense(1))"
   ]
  },
  {
   "cell_type": "code",
   "execution_count": 43,
   "id": "95cfd8f4",
   "metadata": {},
   "outputs": [
    {
     "name": "stderr",
     "output_type": "stream",
     "text": [
      "C:\\ProgramData\\Anaconda3\\lib\\site-packages\\keras\\optimizer_v2\\optimizer_v2.py:355: UserWarning: The `lr` argument is deprecated, use `learning_rate` instead.\n",
      "  warnings.warn(\n"
     ]
    }
   ],
   "source": [
    "model_gru.compile(optimizer=SGD(lr=0.01,decay=1e-7, momentum=0.9), loss='mse')"
   ]
  },
  {
   "cell_type": "code",
   "execution_count": 44,
   "id": "cdd91844",
   "metadata": {},
   "outputs": [
    {
     "name": "stdout",
     "output_type": "stream",
     "text": [
      "Epoch 1/25\n",
      "153/153 [==============================] - 10s 47ms/step - loss: 0.0112\n",
      "Epoch 2/25\n",
      "153/153 [==============================] - 7s 45ms/step - loss: 9.9650e-04\n",
      "Epoch 3/25\n",
      "153/153 [==============================] - 7s 45ms/step - loss: 7.9889e-04\n",
      "Epoch 4/25\n",
      "153/153 [==============================] - 7s 48ms/step - loss: 6.6408e-04: 0s - los\n",
      "Epoch 5/25\n",
      "153/153 [==============================] - 7s 45ms/step - loss: 6.7035e-04\n",
      "Epoch 6/25\n",
      "153/153 [==============================] - 7s 47ms/step - loss: 6.3101e-04\n",
      "Epoch 7/25\n",
      "153/153 [==============================] - 7s 45ms/step - loss: 6.1874e-04\n",
      "Epoch 8/25\n",
      "153/153 [==============================] - 7s 48ms/step - loss: 5.9307e-04\n",
      "Epoch 9/25\n",
      "153/153 [==============================] - 7s 46ms/step - loss: 5.9409e-04\n",
      "Epoch 10/25\n",
      "153/153 [==============================] - 7s 46ms/step - loss: 6.0100e-04\n",
      "Epoch 11/25\n",
      "153/153 [==============================] - 7s 47ms/step - loss: 5.5026e-04\n",
      "Epoch 12/25\n",
      "153/153 [==============================] - 7s 47ms/step - loss: 5.4960e-04\n",
      "Epoch 13/25\n",
      "153/153 [==============================] - 9s 58ms/step - loss: 5.8295e-04\n",
      "Epoch 14/25\n",
      "153/153 [==============================] - 10s 62ms/step - loss: 5.5655e-04\n",
      "Epoch 15/25\n",
      "153/153 [==============================] - 10s 64ms/step - loss: 5.3384e-04\n",
      "Epoch 16/25\n",
      "153/153 [==============================] - 10s 63ms/step - loss: 5.1326e-04\n",
      "Epoch 17/25\n",
      "153/153 [==============================] - 9s 62ms/step - loss: 5.2208e-04\n",
      "Epoch 18/25\n",
      "153/153 [==============================] - 10s 63ms/step - loss: 5.0440e-04\n",
      "Epoch 19/25\n",
      "153/153 [==============================] - 10s 64ms/step - loss: 4.9203e-04\n",
      "Epoch 20/25\n",
      "153/153 [==============================] - 8s 52ms/step - loss: 5.2226e-04\n",
      "Epoch 21/25\n",
      "153/153 [==============================] - 7s 47ms/step - loss: 5.0459e-04\n",
      "Epoch 22/25\n",
      "153/153 [==============================] - 7s 46ms/step - loss: 4.9340e-04\n",
      "Epoch 23/25\n",
      "153/153 [==============================] - 7s 47ms/step - loss: 4.5375e-04\n",
      "Epoch 24/25\n",
      "153/153 [==============================] - 8s 53ms/step - loss: 4.9699e-04\n",
      "Epoch 25/25\n",
      "153/153 [==============================] - 8s 51ms/step - loss: 4.5214e-04\n"
     ]
    },
    {
     "data": {
      "text/plain": [
       "<keras.callbacks.History at 0x1134e670c10>"
      ]
     },
     "execution_count": 44,
     "metadata": {},
     "output_type": "execute_result"
    }
   ],
   "source": [
    "model_gru.fit(X_train, Y_train, epochs=25, batch_size=32)                                                                                                                                                                                                                                                          "
   ]
  },
  {
   "cell_type": "code",
   "execution_count": 45,
   "id": "20d62a84",
   "metadata": {},
   "outputs": [],
   "source": [
    "#save model to a single file\n",
    "model_gru.save('gru_model.h5')"
   ]
  },
  {
   "cell_type": "markdown",
   "id": "4fff3fc7",
   "metadata": {},
   "source": [
    "### 3.3.2 load model\n",
    "Please download the file gru_model.h5 first."
   ]
  },
  {
   "cell_type": "code",
   "execution_count": 68,
   "id": "e753d8b1",
   "metadata": {},
   "outputs": [],
   "source": [
    "gru_model = load_model('gru_model.h5')"
   ]
  },
  {
   "cell_type": "code",
   "execution_count": 69,
   "id": "518b2382",
   "metadata": {},
   "outputs": [
    {
     "data": {
      "text/plain": [
       "(82, 60)"
      ]
     },
     "execution_count": 69,
     "metadata": {},
     "output_type": "execute_result"
    }
   ],
   "source": [
    "#getting test set X_test\n",
    "X_test = []\n",
    "for i in range(60,142):\n",
    "    X_test.append(inputs[i-60:i,0])\n",
    "    \n",
    "X_test = np.array(X_test)   \n",
    "\n",
    "X_test.shape"
   ]
  },
  {
   "cell_type": "code",
   "execution_count": 70,
   "id": "97dd4090",
   "metadata": {},
   "outputs": [
    {
     "data": {
      "text/plain": [
       "(82, 60, 1)"
      ]
     },
     "execution_count": 70,
     "metadata": {},
     "output_type": "execute_result"
    }
   ],
   "source": [
    "X_test = np.reshape(X_test,(X_test.shape[0],X_test.shape[1],1))\n",
    "X_test.shape"
   ]
  },
  {
   "cell_type": "code",
   "execution_count": 71,
   "id": "61be6e2b",
   "metadata": {},
   "outputs": [],
   "source": [
    "GRU_predicted = gru_model.predict(X_test)"
   ]
  },
  {
   "cell_type": "code",
   "execution_count": 72,
   "id": "92b4af2d",
   "metadata": {},
   "outputs": [
    {
     "data": {
      "text/plain": [
       "array([[0.97689813],\n",
       "       [0.98296857],\n",
       "       [0.9880336 ],\n",
       "       [0.9870257 ],\n",
       "       [0.98681724],\n",
       "       [0.9901797 ],\n",
       "       [0.9866083 ],\n",
       "       [0.9795018 ],\n",
       "       [0.97415257],\n",
       "       [0.9736208 ],\n",
       "       [0.97842145],\n",
       "       [0.98171383],\n",
       "       [0.9795493 ],\n",
       "       [0.9691621 ],\n",
       "       [0.9578488 ],\n",
       "       [0.94713503],\n",
       "       [0.94746304],\n",
       "       [0.949979  ],\n",
       "       [0.95015913],\n",
       "       [0.9427787 ],\n",
       "       [0.9381635 ],\n",
       "       [0.9349232 ],\n",
       "       [0.929947  ],\n",
       "       [0.9221471 ],\n",
       "       [0.91927314],\n",
       "       [0.918073  ],\n",
       "       [0.91468984],\n",
       "       [0.9168378 ],\n",
       "       [0.91901624],\n",
       "       [0.9162623 ],\n",
       "       [0.917751  ],\n",
       "       [0.92479825],\n",
       "       [0.92697096],\n",
       "       [0.92417717],\n",
       "       [0.91977483],\n",
       "       [0.91757405],\n",
       "       [0.91390544],\n",
       "       [0.870846  ],\n",
       "       [0.82607454],\n",
       "       [0.80099076],\n",
       "       [0.7903089 ],\n",
       "       [0.7843868 ],\n",
       "       [0.78337324],\n",
       "       [0.7746617 ],\n",
       "       [0.761409  ],\n",
       "       [0.7450476 ],\n",
       "       [0.73798805],\n",
       "       [0.73658293],\n",
       "       [0.7401593 ],\n",
       "       [0.7368428 ],\n",
       "       [0.7339572 ],\n",
       "       [0.74299383],\n",
       "       [0.75370324],\n",
       "       [0.7647196 ],\n",
       "       [0.777575  ],\n",
       "       [0.78611743],\n",
       "       [0.7886792 ],\n",
       "       [0.78697276],\n",
       "       [0.7820352 ],\n",
       "       [0.7792032 ],\n",
       "       [0.778679  ],\n",
       "       [0.7812726 ],\n",
       "       [0.78230447],\n",
       "       [0.7868982 ],\n",
       "       [0.79684496],\n",
       "       [0.8027377 ],\n",
       "       [0.80137527],\n",
       "       [0.80047655],\n",
       "       [0.79873866],\n",
       "       [0.7928368 ],\n",
       "       [0.7883471 ],\n",
       "       [0.78584707],\n",
       "       [0.7872215 ],\n",
       "       [0.78867596],\n",
       "       [0.784979  ],\n",
       "       [0.78408706],\n",
       "       [0.78690726],\n",
       "       [0.78765357],\n",
       "       [0.78336394],\n",
       "       [0.7806125 ],\n",
       "       [0.77605206],\n",
       "       [0.7675456 ]], dtype=float32)"
      ]
     },
     "execution_count": 72,
     "metadata": {},
     "output_type": "execute_result"
    }
   ],
   "source": [
    "GRU_predicted"
   ]
  },
  {
   "cell_type": "code",
   "execution_count": 73,
   "id": "74f7d635",
   "metadata": {},
   "outputs": [
    {
     "data": {
      "text/plain": [
       "(82, 1)"
      ]
     },
     "execution_count": 73,
     "metadata": {},
     "output_type": "execute_result"
    }
   ],
   "source": [
    "GRU_predicted.shape"
   ]
  },
  {
   "cell_type": "code",
   "execution_count": 74,
   "id": "dedfb559",
   "metadata": {},
   "outputs": [],
   "source": [
    "GRU_predicted_stock_price = sc.inverse_transform(GRU_predicted)"
   ]
  },
  {
   "cell_type": "code",
   "execution_count": 75,
   "id": "158fa1e5",
   "metadata": {},
   "outputs": [
    {
     "data": {
      "image/png": "[encoded data removed]",
      "text/plain": [
       "<Figure size 432x288 with 1 Axes>"
      ]
     },
     "metadata": {
      "needs_background": "light"
     },
     "output_type": "display_data"
    }
   ],
   "source": [
    "plot_predictions(test_set,GRU_predicted_stock_price)"
   ]
  },
  {
   "cell_type": "markdown",
   "id": "a1c1f4ea",
   "metadata": {},
   "source": [
    "### MSE and RMSE"
   ]
  },
  {
   "cell_type": "code",
   "execution_count": 77,
   "id": "caced3b1",
   "metadata": {},
   "outputs": [
    {
     "name": "stdout",
     "output_type": "stream",
     "text": [
      "22.44294073592909\n"
     ]
    }
   ],
   "source": [
    "mse = mean_squared_error(test_set,GRU_predicted_stock_price)\n",
    "rmse = np.sqrt(mse)\n",
    "print(rmse)"
   ]
  },
  {
   "cell_type": "markdown",
   "id": "35e7e39b",
   "metadata": {},
   "source": [
    "# 4.Findings \n",
    "## 4.1 ARIMA Model\n",
    "We can see that the ARIMA model predicts poorly. It differs significantly from the real value because Coke's stock price is expected to fall in 2022. However, the data we forecasted is increasing.\n",
    "\n",
    "We consider some possible causes for such issue:\n",
    "\n",
    "1. The ARIMA model cannot predict long-term data.  Only a few days or months can be predicted by the model. A long-term forecast would result in a straight line, similar to the one seen above.\n",
    "\n",
    "2. The ARIMA model can only capture the data's linear relationship, ignoring the non-linear aspects. As a result, we must include the GARCH model or other models if we wish to include the nonlinear component. However, the data we used in this project is not too volatile, so we did not consider introducing the GARCH model.\n",
    "\n",
    "3. ARIMA is difficult to predict the turning point. As shown in the previous figure, the prediction result is shown as a straight line. Although the prediction result fluctuates, the extent is too small to predict accurately.\n",
    "\n",
    "4. The Covid-19 has a major impact on the stock market. So  it is difficult to predict during this time.\n",
    "\n",
    "## 4.2 LSTM Model \n",
    "Firstly, we divided the dataset into two parts: one is the training set(before 2022)and the other one (after 2022) is the test set. Deep learning models (such as LSTM) need to be trained with a large amount of data, otherwise it is likely to have overfitting problem. Our training set contains the daily trading data of Coke stock in the past 19 years, so the amount of data is sufficient, which can help to improve the generalization ability of the model.\n",
    "\n",
    "Secondly, we constructed the LSTM model and used it to predict the opening price of 2022. It is straightforward to compared it with the real opening price data (test set). The result shows that the RMSE is 23.30, and the predicted price is very close to the real price.For example, the estimated stock price on 29th, April is about 457 dollars and the actual price of that day is 448 dollars. Besides, they also has the same fluctuation trend. \n",
    "\n",
    "Therefore, we can conclude that our LSTM model has good prediction accuracy and is suitable for stock price prediction.\n",
    "\n",
    "## 4.3 GRU Model\n",
    "GRU model is similar as the LSTM model, but the former is more concise. We also needed to use the sequential function to construct the layers and then tested the fitness of the GRU model. At last, we used the test_set to predict the stock price. As the prediction graph shows that, the RMSE of GRU model is 22.44 and slightly lower than the LSTM. To sum up, GRU is a better model to predict the stock price of Coke because of lower RMSE."
   ]
  },
  {
   "cell_type": "markdown",
   "id": "dcd357cb",
   "metadata": {},
   "source": [
    "# 5. Conclusion\n",
    "From the output of the three models we can conclude that ARIMA(RMSE:118.82) is the worst one while the prediction ability of LSTM(RMSE:23.30) and GRU(22.44) are basically at the same level(GRU is slightly better than LSTM in this model). In other words, both GRU and LSTM are suitable for stock price prediction.\n",
    "\n",
    "Our time series based models also have some limitations, that is, they do not take into account the influence of external factors (such as covid-19). This also leads to a large deviation between the predicted value and the real value at some time.In further research, if we combine the time series and external factors, we may obtain a more trust-worthy prediction model."
   ]
  }
 ],
 "metadata": {
  "kernelspec": {
   "display_name": "Python 3 (ipykernel)",
   "language": "python",
   "name": "python3"
  },
  "language_info": {
   "codemirror_mode": {
    "name": "ipython",
    "version": 3
   },
   "file_extension": ".py",
   "mimetype": "text/x-python",
   "name": "python",
   "nbconvert_exporter": "python",
   "pygments_lexer": "ipython3",
   "version": "3.9.7"
  }
 },
 "nbformat": 4,
 "nbformat_minor": 5
}
